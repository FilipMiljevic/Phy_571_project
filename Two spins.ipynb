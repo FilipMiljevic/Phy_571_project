{
 "cells": [
  {
   "cell_type": "code",
   "execution_count": 2,
   "id": "1c9cd3d4",
   "metadata": {},
   "outputs": [],
   "source": [
    "import numpy as np\n",
    "import matplotlib.pyplot as plt"
   ]
  },
  {
   "cell_type": "code",
   "execution_count": 3,
   "id": "cf5d3223",
   "metadata": {},
   "outputs": [],
   "source": [
    "def show_psi(psi):\n",
    "    \"\"\"psi is an 2x2 array for now\n",
    "    in general it will be N^N array\"\"\"\n",
    "    s = 'psi = '\n",
    "    for i in range(len(psi)):\n",
    "        for j in range(len(psi[i])):\n",
    "            s += str('%.2f' % psi[i,j]) + '|' + str(i) + str(j) + '>' + ' + '\n",
    "    return s[:-3]\n",
    "\n",
    "def sigma_x(psi):\n",
    "    psi1 = np.zeros((len(psi), len(psi)))\n",
    "    for i in range(len(psi)):\n",
    "        for j in range(len(psi[i])):\n",
    "            psi1[(i + 1) % 2, j] += psi[i, j]\n",
    "            psi1[i, (j + 1) % 2] += psi[i, j]\n",
    "    return psi1\n",
    "\n",
    "def sign(i):\n",
    "    return 1 if i == 1 else -1\n",
    "\n",
    "def sigma_z(psi):    # not working well probs\n",
    "    psi1 = np.zeros((len(psi), len(psi)))\n",
    "    for i in range(len(psi)):\n",
    "        for j in range(len(psi[i])):\n",
    "            psi1[i, j] = (-1) ** (i + j) * psi[i, j]\n",
    "    return psi1\n",
    "\n",
    "def hamiltonian(psi):\n",
    "    return sigma_z(psi) + sigma_x(psi)"
   ]
  },
  {
   "cell_type": "code",
   "execution_count": null,
   "id": "b06c1a2e",
   "metadata": {},
   "outputs": [],
   "source": []
  }
 ],
 "metadata": {
  "kernelspec": {
   "display_name": "Python 3",
   "language": "python",
   "name": "python3"
  },
  "language_info": {
   "codemirror_mode": {
    "name": "ipython",
    "version": 3
   },
   "file_extension": ".py",
   "mimetype": "text/x-python",
   "name": "python",
   "nbconvert_exporter": "python",
   "pygments_lexer": "ipython3",
   "version": "3.8.8"
  }
 },
 "nbformat": 4,
 "nbformat_minor": 5
}
