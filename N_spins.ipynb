{
 "cells": [
  {
   "cell_type": "markdown",
   "id": "5cc297bc",
   "metadata": {},
   "source": [
    "## Part 1\n",
    "\n",
    "In this section we create a class Boltzmann_N_spins which solves the ground state of the N-spin chain using gradient descent."
   ]
  },
  {
   "cell_type": "code",
   "execution_count": 1,
   "id": "1ba171c4",
   "metadata": {},
   "outputs": [],
   "source": [
    "import numpy as np\n",
    "import matplotlib.pyplot as plt\n",
    "import qutip as qt\n",
    "from scipy.optimize import minimize\n",
    "import random as rnd\n",
    "import time\n",
    "\n",
    "# Find the exact solution by hand\n",
    "\n",
    "class Boltzmann_N_spins:\n",
    "    \"\"\"Class Boltzmann computes an optimal wave function for\n",
    "    a given hamiltonian and initial w = a, b, W \"\"\"\n",
    "    def __init__(self, hamiltonian, n = 2):\n",
    "        self.n = n\n",
    "        self.hamiltonian = hamiltonian    # function which is defined outside\n",
    "        self.w_optimal = np.nan    # optimal w = a, b, W      \n",
    "        self.psi_optimal = np.nan    # optimal psi corresponding to the optimal w\n",
    "        self.min_energy = np.nan    # minimal energy corresponding to the optimal psi\n",
    "        self.energy_optimization_history = []\n",
    "        \n",
    "    ########### PSI #################################\n",
    "    \n",
    "    def psi_M(self, S, w):    # Works for complex w, however, runtime errors\n",
    "        \"\"\"Returns a component of a wavefunction\n",
    "        in the S direction\n",
    "        psi is given in form of an array and works for any number of spins\"\"\"\n",
    "        a, b, W = w[0], w[1], w[2]\n",
    "        psi = np.exp(np.sum(a * S))\n",
    "#         print('W ===', len(W))\n",
    "        for i in range(len(W)):\n",
    "            Fi = 2 * np.cosh(b[i] + np.sum(W[i] * S))\n",
    "            psi *= Fi\n",
    "        return psi\n",
    "\n",
    "    def compute_psi(self, w):\n",
    "        \"\"\"Computes psi for w = a,b,W \n",
    "        psi is given in form of an array and works for any number of spins\"\"\"\n",
    "        n = len(w[0])\n",
    "        s = generate_spins(n)\n",
    "        psi = np.zeros(2 ** n, dtype = 'complex')\n",
    "        for i in range(len(psi)):\n",
    "            psi[i] = self.psi_M(s[i], w)\n",
    "        return psi\n",
    "    \n",
    "    def compute_psi_scipy(self, w_scipy):\n",
    "        \"\"\"Computes psi when for a given w_scipy\"\"\"\n",
    "        w = self.convert_w_from_scipy(w_scipy)\n",
    "        return self.compute_psi(w)\n",
    "    \n",
    "    def normalize(self, psi):\n",
    "        \"\"\"Returns normalized psi\"\"\"\n",
    "        psi_star = np.transpose(np.conjugate(psi))\n",
    "        return psi / np.sqrt(np.sum(psi_star @ psi))\n",
    "        \n",
    "    def show_psi(self, psi):\n",
    "        \"\"\"psi is a vector with lenght 2^n\"\"\"\n",
    "        s = 'psi = '\n",
    "        accuracy = '%.2f'\n",
    "        for i in range(len(psi)):\n",
    "            basis = bin(i)\n",
    "            while len(basis) < len(bin(len(psi))) - 1:\n",
    "                basis = basis[0:2] + '0' + basis[2:]\n",
    "            if np.real(psi[i]) >= 0:\n",
    "#                 s += '(' + str('%.5f' % np.real(psi[i])) + ' + i' + str('%.5f' % np.imag(psi[i])) + ')|' + basis[2:] + '>' + ' + '\n",
    "                s += '(' + str(accuracy % np.real(psi[i])) + ' + ' + str(accuracy % np.imag(psi[i])) + 'i)|' + basis[2:] + '>' + ' + '\n",
    "            else:\n",
    "                s += '(' + str(accuracy % np.real(psi[i])) + ' - ' + str(accuracy % np.imag(-psi[i])) + 'i)|' + basis[2:] + '>' + ' + '\n",
    "        print(s[:-3])\n",
    "    \n",
    "    def show_psi_optimal(self):\n",
    "        \"\"\"Shows optimal psi\"\"\"\n",
    "        if self.psi_optimal is np.nan:\n",
    "            raise ValueError('The optimal psi is not computed yet')\n",
    "        self.show_psi(self.psi_optimal)\n",
    "    \n",
    "    ########### PSI #################################\n",
    "    ########### OMEGA ###############################\n",
    "    \n",
    "    def find_len_a(self, N):\n",
    "        \"\"\"Returns the size of a for a given length \n",
    "        N of w = a,b,W in a form of 1D array\"\"\"\n",
    "        l = 0\n",
    "        while 2 * l + l ** 2 != N:\n",
    "            l += 1\n",
    "        return l\n",
    "    \n",
    "    def convert_w_to_scipy(self, w):\n",
    "        \"\"\"Converts w = a, b, W into scipy form\"\"\"\n",
    "        a, b, W = w[0], w[1], w[2]\n",
    "        w_scipy = np.zeros(2 * (len(a) + len(b) + len(W) * len(W[0]))) # w_scipy = [real(a[0]), imag(a[0]), real(a[1]), ...]\n",
    "        for i in range(len(a)):\n",
    "            w_scipy[2 * i] = np.real(a[i])\n",
    "            w_scipy[2 * i + 1] = np.imag(a[i])\n",
    "        for i in range(len(b)):\n",
    "            w_scipy[2 * (len(a) + i)] = np.real(b[i])\n",
    "            w_scipy[2 * (len(a) + i) + 1] = np.imag(b[i])\n",
    "        for i in range(len(W)):\n",
    "            for j in range(len(W[0])):\n",
    "                w_scipy[2 * (len(a) + len(b) + i * len(W) + j)] = np.real(W[i][j])\n",
    "                w_scipy[2 * (len(a) + len(b) + i * len(W) + j) + 1] = np.imag(W[i][j])\n",
    "        return w_scipy\n",
    "    \n",
    "    def convert_w_from_scipy(self, w_scipy):\n",
    "        \"\"\"From w in scipy form returns w = a, b, W\"\"\"\n",
    "        w = np.zeros(len(w_scipy) // 2, dtype = 'complex')\n",
    "        for i in range(len(w)):\n",
    "            w[i] = w_scipy[2 * i] + 1j * w_scipy[2 * i + 1]\n",
    "        l = self.find_len_a(len(w))\n",
    "        a, b = w[:l], w[l : 2 * l]\n",
    "        W = np.resize(w[2 * l + 1:], (l, l))\n",
    "        return a, b, W\n",
    "    \n",
    "    def show_omega_optimal(self):\n",
    "        \"\"\"Shows optimal w\"\"\"\n",
    "        w = self.w_optimal\n",
    "        a, b, W = w[0], w[1], w[2]\n",
    "        print('a = ', a, '\\nb = ', b, '\\nW = ', W)\n",
    "        \n",
    "    ########### OMEGA ###############################\n",
    "    ########### ENERGY ##############################\n",
    "    \n",
    "    def avg_energy(self, psi):\n",
    "        \"\"\"Returns the average energy for a given  wavefunciton\n",
    "        and a given hamiltonian\n",
    "        <E> = <psi|H|psi> / <psi|psi>\"\"\"\n",
    "        psi_star = np.transpose(np.conjugate(psi))\n",
    "        return np.sum(psi_star * self.hamiltonian(psi)) / np.sum(psi_star * psi)\n",
    "    \n",
    "    def avg_energy_scipy(self, w_scipy):\n",
    "        \"\"\"Returns the average energy for a given configuration w,\n",
    "        made to work for scipy.optimize.minimize\n",
    "        Size of w is 2N, even is real, odd is complex\"\"\"\n",
    "        psi = self.compute_psi_scipy(w_scipy)\n",
    "        self.energy_optimization_history.append(self.avg_energy(psi))\n",
    "        return np.real(self.avg_energy(psi))\n",
    "#         return self.avg_energy(psi)\n",
    "    \n",
    "    def show_min_energy(self):\n",
    "        if self.min_energy is np.nan:\n",
    "            raise ValueError('The optimal energy is not computed yet')\n",
    "        s = 'E_min = ' + str(self.min_energy)\n",
    "        print(s)\n",
    "    \n",
    "    ########### ENERGY ##############################\n",
    "    ########### OPTIMIZATION ########################\n",
    "    \n",
    "    def find_optimal_psi(self, w0, tolerance = None):\n",
    "        \"\"\"For a given hamiltonian searches for the\n",
    "        ground state, i.e. the psi which minimizes the energy\"\"\"\n",
    "        w0_scipy = self.convert_w_to_scipy(w0)\n",
    "#         w_min = minimize(self.avg_energy_scipy, w0_scipy)    # x0 is now complex, size 2N, even spots real, odd imag\n",
    "        w_min = minimize(self.avg_energy_scipy, w0_scipy, tol = tolerance)    # x0 is now complex, size 2N, even spots real, odd imag\n",
    "        w_optimal_scipy = w_min.x\n",
    "        self.w_optimal = self.convert_w_from_scipy(w_optimal_scipy)    # w_optimal is in a, b, W form\n",
    "        self.psi_optimal = self.compute_psi(self.w_optimal)\n",
    "        self.min_energy = self.avg_energy(self.psi_optimal)\n",
    "    \n",
    "    ########### OPTIMIZATION ########################\n",
    "    \n",
    "\n",
    "def normalize(psi):\n",
    "        \"\"\"Returns normalized psi\"\"\"\n",
    "        psi_star = np.transpose(np.conjugate(psi))\n",
    "        return psi / np.sqrt(np.sum(psi_star @ psi))\n",
    "\n",
    "########### NEW HAMILTONIAN #########################\n",
    "\n",
    "def sigma_x(psi):\n",
    "    \"\"\"Applies sum sigma_x_i on a given \n",
    "    wavefunction psi (in form of 1D array) and returns the \n",
    "    new wavefunciton psi1\"\"\"\n",
    "    n = len(psi)\n",
    "    psi1 = np.zeros((n), dtype = 'complex')\n",
    "    for i in range(n):\n",
    "        # s = 1001 meaning |1001>, iterates through all the possible states 001, 010, 011 ...\n",
    "        s = bin(i)\n",
    "        # instead of i = 1 ==> b = 0b1, we want b = 0b001, for 3 spins\n",
    "        while len(s) < len(bin(n)) - 1:\n",
    "            s = s[0:2] + '0' + s[2:]\n",
    "        for j in range(len(s[2:])):\n",
    "            s1 = ''    # flipping all the possible bits once; 101 would give s1: 100, 111, 001\n",
    "            for k in s:    # constructing s1 as a function of j               j:  0,   1,   2\n",
    "                if j - 1 == len(s[2:]) - len(s1):\n",
    "                    if k == '0':\n",
    "                        s1 += '1'\n",
    "                    else:\n",
    "                        s1 += '0'\n",
    "                else:\n",
    "                    s1 += k\n",
    "            i1 = int(s1, 2)\n",
    "#             print(s, s1)\n",
    "#             print(i, i1)\n",
    "            psi1[i1] += psi[i]\n",
    "    return psi1\n",
    "\n",
    "def double_sigma_z(psi):\n",
    "    \"\"\"Applies  sigma_z_i sigma_z_{i+1}\n",
    "    on a given wavefunction psi and returns the \n",
    "    new wavefunciton\"\"\"\n",
    "    n = len(psi)\n",
    "    n_spins = int(np.log2(n))\n",
    "    psi_sigma_z = np.zeros(len(psi), dtype = 'complex')\n",
    "    if n == 4:\n",
    "        for i in range(len(psi)):\n",
    "            psi_sigma_z[i] = psi[i]\n",
    "        psi_sigma_z[1] *= -1\n",
    "        psi_sigma_z[2] *= -1\n",
    "    else:\n",
    "        s = generate_spins(n_spins)\n",
    "        for i in range(n):\n",
    "            for j in range(n_spins):\n",
    "                psi_sigma_z[i] += (-1) ** (1 + (s[i][j] + s[i][(j + 1) % len(s[0])]) // 2) * psi[i]\n",
    "    return psi_sigma_z\n",
    "\n",
    "def hamiltonian(psi):\n",
    "    \"\"\"Retuns wave function after the TFI Hamiltonian \n",
    "    acts on it, with h = 1 (to be modified later)\"\"\"\n",
    "#     return h * sigma_x(psi)\n",
    "    return - h * sigma_x(psi) - double_sigma_z(psi)\n",
    "\n",
    "def generate_spins(n):\n",
    "    s = np.zeros((2 ** n, n))\n",
    "    for i in range(2 ** n):\n",
    "        b = bin(i)\n",
    "        while len(b) < n + 2:\n",
    "            b = b[0:2] + '0' + b[2:]\n",
    "        d = []\n",
    "        for k in b:\n",
    "            if k == '0':\n",
    "                d.append(-1)\n",
    "#                     d.append(0)    # This could be more convenient, we'll see\n",
    "            else:\n",
    "                d.append(1)\n",
    "        s[i] = np.array(d[2:])\n",
    "    return s\n",
    "\n",
    "########### NEW HAMILTONIAN #########################\n"
   ]
  },
  {
   "cell_type": "code",
   "execution_count": 636,
   "id": "00a647c6",
   "metadata": {},
   "outputs": [],
   "source": [
    "########### INITIALIZATION ########################\n",
    "n = 4\n",
    "a = np.random.rand(n)\n",
    "b = np.random.rand(n)\n",
    "W = np.random.rand(n,n) + 1j * np.random.rand(n,n)\n",
    "w = a, b, W\n",
    "h = 1\n",
    "boltzmann = Boltzmann_N_spins(hamiltonian, n)\n",
    "########### INITIALIZATION ########################\n",
    "\n",
    "########### OPTIMZATION ###########################\n",
    "tolerance = 0.01\n",
    "boltzmann.find_optimal_psi(w, tolerance)\n",
    "########### OPTIMZATION ###########################\n",
    "\n",
    "########### EXTRACTING PARAMETERS #################\n",
    "w_optimal = boltzmann.w_optimal\n",
    "psi_optimal = boltzmann.psi_optimal\n",
    "boltzmann.psi_optimal = normalize(psi_optimal)\n",
    "min_energy = boltzmann.min_energy\n",
    "########### EXTRACTING PARAMETERS #################"
   ]
  },
  {
   "cell_type": "code",
   "execution_count": 637,
   "id": "62869fc1",
   "metadata": {},
   "outputs": [
    {
     "name": "stdout",
     "output_type": "stream",
     "text": [
      "psi = (0.52 + 0.25i)|0000> + (0.16 + 0.08i)|0001> + (0.16 + 0.07i)|0010> + (0.12 + 0.06i)|0011> + (0.16 + 0.08i)|0100> + (0.07 + 0.03i)|0101> + (0.12 + 0.06i)|0110> + (0.16 + 0.08i)|0111> + (0.15 + 0.08i)|1000> + (0.13 + 0.06i)|1001> + (0.07 + 0.04i)|1010> + (0.16 + 0.08i)|1011> + (0.12 + 0.06i)|1100> + (0.16 + 0.08i)|1101> + (0.16 + 0.08i)|1110> + (0.52 + 0.25i)|1111>\n",
      "E_min = (-5.224588737277634-1.338814441837599e-16j)\n"
     ]
    }
   ],
   "source": [
    "boltzmann.show_psi_optimal()\n",
    "boltzmann.show_min_energy()\n",
    "# boltzmann.show_omega_optimal()"
   ]
  },
  {
   "cell_type": "code",
   "execution_count": 638,
   "id": "8898b398",
   "metadata": {},
   "outputs": [
    {
     "data": {
      "text/plain": [
       "[<matplotlib.lines.Line2D at 0x248b081f340>]"
      ]
     },
     "execution_count": 638,
     "metadata": {},
     "output_type": "execute_result"
    },
    {
     "data": {
      "image/png": "[encoded data removed]",
      "text/plain": [
       "<Figure size 432x288 with 1 Axes>"
      ]
     },
     "metadata": {
      "needs_background": "light"
     },
     "output_type": "display_data"
    }
   ],
   "source": [
    "plt.plot(np.real(boltzmann.energy_optimization_history))"
   ]
  },
  {
   "cell_type": "markdown",
   "id": "4f1beead",
   "metadata": {},
   "source": [
    "## Part 2\n",
    "\n",
    "In this section we find the spin correlation in order to see if the obtained wave-function is physical."
   ]
  },
  {
   "cell_type": "code",
   "execution_count": 639,
   "id": "851c2349",
   "metadata": {},
   "outputs": [],
   "source": [
    "def sigma_z_0_l(psi, l):\n",
    "    \"\"\"Applies  sigma_z_0 sigma_z_{l}\n",
    "    on a given wavefunction psi and returns the \n",
    "    new wavefunciton\"\"\"\n",
    "    n_spins = int(np.log2(len(psi)))\n",
    "    s = generate_spins(n_spins)\n",
    "    psi_sigma_z = np.zeros(len(psi), dtype = 'complex')\n",
    "    for i in range(len(psi_sigma_z)):\n",
    "        psi_sigma_z[i] = s[i][0] * s[i][l] * psi[i]\n",
    "    return psi_sigma_z\n",
    "\n",
    "def spin_correlation(psi):\n",
    "    \"\"\"Returns array C which contains the correlation between\n",
    "    the spin at position 0 and the spin on position i. C is\n",
    "    of the length N_spins + 1, and C[-1] is set to C[0] \n",
    "    for visual purposes\"\"\"\n",
    "    psi = normalize(psi)\n",
    "    psi_star = np.transpose(np.conjugate(psi))\n",
    "    n_spins = int(np.log2(len(psi)))\n",
    "    C = np.zeros(n_spins + 1)\n",
    "    for i in range(n_spins):\n",
    "        C[i] = psi_star @ sigma_z_0_l(psi, i)\n",
    "        print(C)\n",
    "    C[-1] = C[0]\n",
    "    return C"
   ]
  },
  {
   "cell_type": "code",
   "execution_count": 640,
   "id": "91a28a6d",
   "metadata": {},
   "outputs": [
    {
     "name": "stdout",
     "output_type": "stream",
     "text": [
      "[1. 0. 0. 0. 0.]\n",
      "[1.         0.65052813 0.         0.         0.        ]\n",
      "[1.         0.65052813 0.60522535 0.         0.        ]\n",
      "[1.         0.65052813 0.60522535 0.65266804 0.        ]\n"
     ]
    },
    {
     "name": "stderr",
     "output_type": "stream",
     "text": [
      "<ipython-input-639-511f14430294>:22: ComplexWarning: Casting complex values to real discards the imaginary part\n",
      "  C[i] = psi_star @ sigma_z_0_l(psi, i)\n"
     ]
    },
    {
     "data": {
      "image/png": "[encoded data removed]",
      "text/plain": [
       "<Figure size 432x288 with 1 Axes>"
      ]
     },
     "metadata": {
      "needs_background": "light"
     },
     "output_type": "display_data"
    }
   ],
   "source": [
    "C = spin_correlation(psi_optimal)\n",
    "plt.plot(np.real(C))\n",
    "plt.title('Spin correlation for periodic boundary conditions')\n",
    "plt.xlabel('l_th spin')\n",
    "plt.ylabel('Corellation')\n",
    "plt.savefig('Figures\\\\Spin correlation ' + str(n) + ' spins, h = ' + str(h) + '.png')"
   ]
  },
  {
   "cell_type": "markdown",
   "id": "50cf163b",
   "metadata": {},
   "source": [
    "## Part 3\n",
    "\n",
    "We modify the code from Part 1 to solve the system using stochastic gradient descent. This section is in progress, while the previous ones should be working completely."
   ]
  },
  {
   "cell_type": "code",
   "execution_count": null,
   "id": "dde5416a",
   "metadata": {},
   "outputs": [],
   "source": [
    "### Make more efficient, compute energy difference only if the new configuration is accepted\n",
    "### Find error bars using standard deviation"
   ]
  },
  {
   "cell_type": "code",
   "execution_count": 641,
   "id": "afa47709",
   "metadata": {},
   "outputs": [],
   "source": [
    "def psi_diference(s, w, ind):    # Works for complex w, however, runtime errors\n",
    "    \"\"\"Returns a result of division of wave function with fliped spi by initial psi \"\"\"\n",
    "    #s_new[ind] = spin which was flipped\n",
    "    a, b, W = w[0], w[1], w[2]\n",
    "    div_psi = np.exp(-2*a[ind]*s[ind]) + 0.j\n",
    "    p = store_constant(s, w)\n",
    "    for i in range(len(W)):\n",
    "        Fi_divided = (np.cosh(p[i]-2*W[i, ind]*s[ind]))/(np.cosh(p[i]))\n",
    "#         div_psi *= np.real(Fi_divided)\n",
    "        div_psi *= (Fi_divided)\n",
    "    return div_psi\n",
    "\n",
    "def store_constant(S, w):\n",
    "    \"\"\"Stores the constant (in form of array) to compute probapility (p) more eficcienly \"\"\"\n",
    "    a, b, W = w[0], w[1], w[2]\n",
    "    p=np.zeros(len(b), dtype = 'complex')\n",
    "    for i in range(len(W)):\n",
    "        p[i] = b[i] + np.sum(W[i] * S)\n",
    "    return p\n",
    "\n",
    "def avg_energy_mc_efficient(w, N_steps):\n",
    "    \"\"\"Computes average energy using stochastic\n",
    "    gradient descent\"\"\"\n",
    "#     N_steps = 10000\n",
    "#     S = generate_spins(len(w[0]))\n",
    "    global S\n",
    "    s = rnd.choice(generate_spins(len(w[0])))\n",
    "    s_hist = np.zeros(len(S))\n",
    "    E = np.zeros(N_steps)\n",
    "    for i in range(N_steps):\n",
    "        E[i], s = monte_carlo_step_efficient(s, w, hamiltonian, boltzmann)\n",
    "#         print(np.argwhere(S == s)[0])\n",
    "        s_hist[index_of_spin(s)] +=1\n",
    "#     return np.zeros(N_steps), s_hist\n",
    "#     return E, s_hist\n",
    "    print('Standard deviation efficient = ', np.std(np.real(E)))\n",
    "    return np.real(np.average(E)), s_hist\n",
    "\n",
    "def monte_carlo_step_efficient(s, w, hamiltonian, boltzmann):\n",
    "    \"\"\"For a given pure state in a given hamiltonian,\n",
    "    does a monte_carlo_step on a pure state\"\"\"\n",
    "    n_spin = len(s)\n",
    "#     a, b, W = w[0], w[1], w[2]\n",
    "    ind = rnd.randint(0, n_spin - 1)\n",
    "    s_new = s.copy()\n",
    "    s_new[ind] *= -1\n",
    "    # We compute the probability to accept the modification\n",
    "    # as the ratio of psi_M(s_new) and psi_M(s)\n",
    "#     psi_M, psi_M_new = boltzmann.psi_M(s, w), boltzmann.psi_M(s_new, w)    # should be more efficient\n",
    "#     p = np.abs(psi_M_new * np.conjugate(psi_M_new) / (psi_M * np.conjugate(psi_M)))\n",
    "    p = psi_diference(s, w, ind)\n",
    "#     p = psi_M_new * np.conjugate(psi_M_new) / (psi_M * np.conjugate(psi_M))\n",
    "#     print('psi_difference = ', np.absolute(p) ** 2)\n",
    "#     print('psi_difference_old = ', psi_M_new * np.conjugate(psi_M_new) / (psi_M * np.conjugate(psi_M)))\n",
    "#     print('p =', p)\n",
    "#     if rnd.random() < p * np.conjugate(p):\n",
    "    if rnd.random() < np.absolute(p) ** 2:\n",
    "#         print(s)\n",
    "        s = s_new\n",
    "#         print(s_new)\n",
    "#         print('***')\n",
    "#     else:\n",
    "#         print('REJECTED')\n",
    "    # computing the change in the energy\n",
    "    delta_E_mc = 0\n",
    "    s_new = s.copy()\n",
    "    for i in range(len(s)):    # sigma_x\n",
    "#         s_new[i] *= -1\n",
    "#         delta_E_mc += (-h) * boltzmann.psi_M(s_new, w) / boltzmann.psi_M(s, w)\n",
    "        delta_E_mc += (-h) * psi_diference(s, w, i)\n",
    "        \n",
    "#         s_new[i] *= -1\n",
    "    if len(s) == 2:\n",
    "        delta_E_mc -= s[0] * s[1]    # double_sigma_z for 2 spins\n",
    "    else:\n",
    "        delta_E_mc -= sum(s[i] * s[(i + 1) % len(s)] for i in range(len(s)))    # double_sigma_z\n",
    "    return delta_E_mc, s"
   ]
  },
  {
   "cell_type": "code",
   "execution_count": 632,
   "id": "b0a08352",
   "metadata": {},
   "outputs": [],
   "source": [
    "########### INITIALIZATION ########################\n",
    "n = 4\n",
    "S = generate_spins(n)\n",
    "a = np.random.rand(n) * rnd.choice([-1, 1])\n",
    "b = np.random.rand(n) * rnd.choice([-1, 1])\n",
    "W = (np.random.rand(n,n) + 1j * np.random.rand(n,n)) * rnd.choice([-1, 1])\n",
    "w = a, b, W\n",
    "h = 1\n",
    "boltzmann = Boltzmann_N_spins(hamiltonian, n)\n",
    "########### INITIALIZATION ########################"
   ]
  },
  {
   "cell_type": "code",
   "execution_count": 645,
   "id": "70975afe",
   "metadata": {},
   "outputs": [
    {
     "name": "stderr",
     "output_type": "stream",
     "text": [
      "<ipython-input-641-57e0447774b6>:31: ComplexWarning: Casting complex values to real discards the imaginary part\n",
      "  E[i], s = monte_carlo_step_efficient(s, w, hamiltonian, boltzmann)\n"
     ]
    },
    {
     "name": "stdout",
     "output_type": "stream",
     "text": [
      "Standard deviation efficient =  1.9039989824735208\n",
      "E_efficient_mc =  -3.8598056429580785 t =  1.0562129020690918\n",
      "E_exact =  (-3.855303202635378-1.7277707225470218e-17j) t =  0.0029668807983398438\n"
     ]
    }
   ],
   "source": [
    "# For a given random state w, we compute the exact energy\n",
    "# and compare to the energy computed by the markov chain\n",
    "# using funciton psi_M directly and using more efficient way with storing data\n",
    "\n",
    "N_steps = 5000\n",
    "t0 = time.time()\n",
    "E_exact = boltzmann.avg_energy(boltzmann.compute_psi(w))\n",
    "t1 = time.time()\n",
    "# E_mc, s_hist = avg_energy_mc(w, N_steps)\n",
    "t2 = time.time()\n",
    "E_efficient_mc, s_hist = avg_energy_mc_efficient(w, N_steps)\n",
    "t3 = time.time()\n",
    "# E_efficient_efficient_mc, s_hist = avg_energy_mc_efficient_efficient(w, N_steps)\n",
    "# t4 = time.time()\n",
    "# print('E_mc = ', E_mc, 't = ', t2 - t1)\n",
    "print('E_efficient_mc = ', E_efficient_mc, 't = ', t3 - t2)\n",
    "# print('E_efficient_efficient_mc = ', E_efficient_efficient_mc, 't = ', t4 - t3)\n",
    "print('E_exact = ', E_exact, 't = ', t1 - t0)"
   ]
  },
  {
   "cell_type": "code",
   "execution_count": 635,
   "id": "e054e32a",
   "metadata": {},
   "outputs": [
    {
     "name": "stderr",
     "output_type": "stream",
     "text": [
      "<ipython-input-631-57e0447774b6>:31: ComplexWarning: Casting complex values to real discards the imaginary part\n",
      "  E[i], s = monte_carlo_step_efficient(s, w, hamiltonian, boltzmann)\n"
     ]
    },
    {
     "name": "stdout",
     "output_type": "stream",
     "text": [
      "Standard deviation efficient =  1.2322778113152337\n",
      "Standard deviation efficient =  2.7643186730545586\n",
      "Standard deviation efficient =  1.6457932862590658\n",
      "Standard deviation efficient =  2.0038279299512802\n",
      "Standard deviation efficient =  0.9317942712110151\n",
      "Standard deviation efficient =  3.8379665470599593\n",
      "Standard deviation efficient =  1.900540654333346\n",
      "Standard deviation efficient =  0.8716573439453117\n",
      "Standard deviation efficient =  3.4481772502564656\n",
      "Standard deviation efficient =  11.118662778991606\n",
      "Std dev =  0.22999416863203748\n",
      "E =  -3.741558329927815\n",
      "E_exact =  (-3.9008328251076447-2.51609292981103e-16j)\n",
      "-4.20154666719189\n",
      "-3.28156999266374\n"
     ]
    }
   ],
   "source": [
    "N_std = 10\n",
    "N_steps = 10000\n",
    "E = np.zeros(N_std)\n",
    "for i in range(N_std):\n",
    "    E[i] = avg_energy_mc_efficient(w, N_steps)[0]\n",
    "E_mc_efficient = np.average(E)\n",
    "print('Std dev = ', np.std(E))\n",
    "print('E = ', np.average(E))\n",
    "print('E_exact = ', E_exact)\n",
    "print(E_mc_efficient - 2 * np.std(E), E_mc_efficient + 2 * np.std(E))"
   ]
  },
  {
   "cell_type": "code",
   "execution_count": 642,
   "id": "6391210a",
   "metadata": {},
   "outputs": [],
   "source": [
    "def plot_psi_M_probability(w, boltzmann):\n",
    "    a, b, W = w[0], w[1], w[2]\n",
    "    S = generate_spins(len(W))\n",
    "    p = np.zeros(len(S), dtype = 'complex')\n",
    "    for i in range(len(S)):\n",
    "        p[i] = np.absolute(boltzmann.psi_M(S[i], w)) ** 2\n",
    "    plt.plot(p[:])\n",
    "    return p"
   ]
  },
  {
   "cell_type": "code",
   "execution_count": 646,
   "id": "1204e7a2",
   "metadata": {},
   "outputs": [
    {
     "name": "stderr",
     "output_type": "stream",
     "text": [
      "C:\\Users\\Filip\\anaconda3\\lib\\site-packages\\matplotlib\\cbook\\__init__.py:1317: ComplexWarning: Casting complex values to real discards the imaginary part\n",
      "  return np.asarray(x, float)\n"
     ]
    },
    {
     "data": {
      "image/png": "[encoded data removed]",
      "text/plain": [
       "<Figure size 432x288 with 1 Axes>"
      ]
     },
     "metadata": {
      "needs_background": "light"
     },
     "output_type": "display_data"
    }
   ],
   "source": [
    "p = plot_psi_M_probability(w, boltzmann)"
   ]
  },
  {
   "cell_type": "code",
   "execution_count": 647,
   "id": "408ad119",
   "metadata": {},
   "outputs": [
    {
     "data": {
      "text/plain": [
       "[<matplotlib.lines.Line2D at 0x248b1a0a8e0>]"
      ]
     },
     "execution_count": 647,
     "metadata": {},
     "output_type": "execute_result"
    },
    {
     "data": {
      "image/png": "[encoded data removed]",
      "text/plain": [
       "<Figure size 432x288 with 1 Axes>"
      ]
     },
     "metadata": {
      "needs_background": "light"
     },
     "output_type": "display_data"
    }
   ],
   "source": [
    "plt.plot(s_hist[:])"
   ]
  }
 ],
 "metadata": {
  "kernelspec": {
   "display_name": "Python 3",
   "language": "python",
   "name": "python3"
  },
  "language_info": {
   "codemirror_mode": {
    "name": "ipython",
    "version": 3
   },
   "file_extension": ".py",
   "mimetype": "text/x-python",
   "name": "python",
   "nbconvert_exporter": "python",
   "pygments_lexer": "ipython3",
   "version": "3.8.8"
  }
 },
 "nbformat": 4,
 "nbformat_minor": 5
}
