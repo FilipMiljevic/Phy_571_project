{
 "cells": [
  {
   "cell_type": "code",
   "execution_count": 1,
   "id": "9752f888",
   "metadata": {},
   "outputs": [],
   "source": [
    "import numpy as np\n",
    "import matplotlib.pyplot as plt\n",
    "import qutip as qt"
   ]
  },
  {
   "cell_type": "code",
   "execution_count": 76,
   "id": "6bf4273f",
   "metadata": {},
   "outputs": [],
   "source": [
    "def show_psi(psi):\n",
    "    \"\"\"psi is an 2x2 array for now\n",
    "    in general it will be N^N array\"\"\"\n",
    "    s = 'psi = '\n",
    "    for i in range(len(psi)):\n",
    "        for j in range(len(psi[i])):\n",
    "            s += str('%.2f' % psi[i,j]) + '|' + str(i) + str(j) + '>' + ' + '\n",
    "    return s[:-3]\n",
    "\n",
    "def sigma_x(psi):\n",
    "    psi1 = np.zeros((len(psi), len(psi)))\n",
    "    for i in range(len(psi)):\n",
    "        for j in range(len(psi[i])):\n",
    "            psi1[(i + 1) % 2, j] += psi[i, j]\n",
    "            psi1[i, (j + 1) % 2] += psi[i, j]\n",
    "    return psi1\n",
    "\n",
    "def sign(i):\n",
    "    return 1 if i == 1 else -1\n",
    "\n",
    "def sigma_z(psi):    # not working well probs\n",
    "    psi1 = np.zeros((len(psi), len(psi)))\n",
    "    for i in range(len(psi)):\n",
    "        for j in range(len(psi[i])):\n",
    "            psi1[i, j] = (-1) ** (i + j) * psi[i, j]\n",
    "    return psi1\n",
    "\n",
    "def hamiltonian(psi):\n",
    "    return sigma_z(psi) + sigma_x(psi)\n",
    "\n",
    "def hamiltonian2(psi):    # verifying if the terms commute\n",
    "    return sigma_x(psi) + sigma_z(psi)"
   ]
  },
  {
   "cell_type": "code",
   "execution_count": 77,
   "id": "7ddd8361",
   "metadata": {},
   "outputs": [
    {
     "data": {
      "text/plain": [
       "'psi = 0.85|00> + 0.90|01> + 0.50|10> + 0.67|11>'"
      ]
     },
     "execution_count": 77,
     "metadata": {},
     "output_type": "execute_result"
    }
   ],
   "source": [
    "psi = np.random.rand(2,2)\n",
    "show_psi(psi)"
   ]
  },
  {
   "cell_type": "code",
   "execution_count": 78,
   "id": "5ad39c41",
   "metadata": {},
   "outputs": [],
   "source": [
    "psi1 = sigma_x(psi)\n",
    "psi2 = sigma_z(psi)"
   ]
  },
  {
   "cell_type": "code",
   "execution_count": 79,
   "id": "f59be462",
   "metadata": {},
   "outputs": [
    {
     "data": {
      "text/plain": [
       "'psi = 0.85|00> + -0.90|01> + -0.50|10> + 0.67|11>'"
      ]
     },
     "execution_count": 79,
     "metadata": {},
     "output_type": "execute_result"
    }
   ],
   "source": [
    "show_psi(psi1)\n",
    "show_psi(psi2)"
   ]
  },
  {
   "cell_type": "code",
   "execution_count": 80,
   "id": "86939db2",
   "metadata": {},
   "outputs": [],
   "source": [
    "h1 = hamiltonian(psi)\n",
    "h2 = hamiltonian2(psi)"
   ]
  },
  {
   "cell_type": "code",
   "execution_count": 81,
   "id": "145dba6b",
   "metadata": {},
   "outputs": [
    {
     "data": {
      "text/plain": [
       "array([[2.24603489, 0.61458561],\n",
       "       [1.01946406, 2.06211707]])"
      ]
     },
     "execution_count": 81,
     "metadata": {},
     "output_type": "execute_result"
    }
   ],
   "source": [
    "h1"
   ]
  },
  {
   "cell_type": "code",
   "execution_count": 82,
   "id": "aca45915",
   "metadata": {},
   "outputs": [
    {
     "data": {
      "text/plain": [
       "array([[2.24603489, 0.61458561],\n",
       "       [1.01946406, 2.06211707]])"
      ]
     },
     "execution_count": 82,
     "metadata": {},
     "output_type": "execute_result"
    }
   ],
   "source": [
    "h2"
   ]
  }
 ],
 "metadata": {
  "kernelspec": {
   "display_name": "Python 3",
   "language": "python",
   "name": "python3"
  },
  "language_info": {
   "codemirror_mode": {
    "name": "ipython",
    "version": 3
   },
   "file_extension": ".py",
   "mimetype": "text/x-python",
   "name": "python",
   "nbconvert_exporter": "python",
   "pygments_lexer": "ipython3",
   "version": "3.8.8"
  }
 },
 "nbformat": 4,
 "nbformat_minor": 5
}
