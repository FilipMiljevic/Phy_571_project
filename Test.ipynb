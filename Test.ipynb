{
 "cells": [
  {
   "cell_type": "code",
   "execution_count": 1,
   "id": "9752f888",
   "metadata": {},
   "outputs": [],
   "source": [
    "import numpy as np\n",
    "import matplotlib.pyplot as plt\n",
    "import qutip as qt"
   ]
  },
  {
   "cell_type": "code",
   "execution_count": 41,
   "id": "e515b228",
   "metadata": {},
   "outputs": [
    {
     "name": "stdout",
     "output_type": "stream",
     "text": [
      "[[0.51036352 0.42783457]\n",
      " [0.28632185 0.29924064]]\n",
      "1.5237605802200722\n"
     ]
    }
   ],
   "source": [
    "a = np.random.rand(2,2)\n",
    "b = np.random.rand(2,2)\n",
    "print(np.dot(a, b))\n",
    "print(np.sum(np.dot(a, b)))"
   ]
  },
  {
   "cell_type": "code",
   "execution_count": 42,
   "id": "6bf4273f",
   "metadata": {},
   "outputs": [],
   "source": [
    "def psi_M(S, w):\n",
    "    \"\"\"Returns a component of a wavefunciton\n",
    "    in the S direction\"\"\"\n",
    "    a, b, W = w[0], w[1], w[2]\n",
    "    psi = np.exp(np.sum(np.dot(a, S)))\n",
    "    for i in range(len(W)):\n",
    "        Fi = 2 * np.cosh(b[i] + np.sum(np.dot(W[i], S)))\n",
    "        psi *= Fi\n",
    "    return psi\n",
    "\n",
    "def psi(w):\n",
    "    N = len(w[0])\n",
    "    psi = np.zeros((2,2))\n",
    "    psi[0, 0] = psi_M((0, 0), w)\n",
    "    psi[0, 1] = psi_M((0, 1), w)\n",
    "    psi[1, 0] = psi_M((1, 0), w)\n",
    "    psi[1, 1] = psi_M((1, 1), w)\n",
    "    return psi\n",
    "\n",
    "def show_psi(psi):\n",
    "    \"\"\"psi is an 2x2 array for now\n",
    "    in general it will be N^N array\"\"\"\n",
    "    s = 'psi = '\n",
    "    for i in range(len(psi)):\n",
    "        for j in range(len(psi[i])):\n",
    "            s += str('%.2f' % psi[i,j]) + '|' + str(i) + str(j) + '>' + ' + '\n",
    "    return s[:-3]\n",
    "\n",
    "def sigma_x(psi):\n",
    "    psi1 = np.zeros((len(psi), len(psi)))\n",
    "    for i in range(len(psi)):\n",
    "        for j in range(len(psi[i])):\n",
    "            psi1[(i + 1) % 2, j] += psi[i, j]\n",
    "            psi1[i, (j + 1) % 2] += psi[i, j]\n",
    "    return psi1\n",
    "\n",
    "def sign(i):\n",
    "    return 1 if i == 1 else -1\n",
    "\n",
    "def sigma_z(psi):    # not working well probs\n",
    "    psi1 = np.zeros((len(psi), len(psi)))\n",
    "    for i in range(len(psi)):\n",
    "        for j in range(len(psi[i])):\n",
    "            psi1[i, j] = (-1) ** (i + j) * psi[i, j]\n",
    "    return psi1\n",
    "\n",
    "def hamiltonian(psi):\n",
    "    return sigma_z(psi) + sigma_x(psi)\n",
    "\n",
    "def avg_energy(psi, ham):\n",
    "    \"\"\"Returns the average energy for a given  wavefunciton\n",
    "    and a given hamiltonian\n",
    "    <E> = <psi|H|psi> / <psi|psi>\"\"\"\n",
    "    psi_star = np.conjugate(psi)\n",
    "    return np.sum(np.dot(psi_star, hamiltonian(psi))) / np.sum(np.dot(psi_star, psi))\n",
    "    \n",
    "\n",
    "# def hamiltonian2(psi):    # verifying if the terms commute\n",
    "#     return sigma_x(psi) + sigma_z(psi)"
   ]
  },
  {
   "cell_type": "code",
   "execution_count": 43,
   "id": "724ba09f",
   "metadata": {},
   "outputs": [],
   "source": [
    "a = 1,1\n",
    "b = 2,3\n",
    "W = np.random.rand(2,2)\n",
    "w = a, b, W\n",
    "S = 1, 1\n",
    "psi_M(S, w)\n",
    "p = psi(w)\n",
    "h = hamiltonian(p)\n",
    "E = avg_energy(p, h)"
   ]
  },
  {
   "cell_type": "code",
   "execution_count": 44,
   "id": "95578626",
   "metadata": {},
   "outputs": [
    {
     "name": "stdout",
     "output_type": "stream",
     "text": [
      "psi = 151.51|00> + 991.36|01> + 432.62|10> + 2834.02|11>\n",
      "[[1575.48239341 1994.16758995]\n",
      " [2552.90190784 4257.99319321]]\n",
      "2.1376494857503032\n"
     ]
    }
   ],
   "source": [
    "print(show_psi(p))\n",
    "print(h)\n",
    "print(E)"
   ]
  },
  {
   "cell_type": "code",
   "execution_count": 77,
   "id": "7ddd8361",
   "metadata": {},
   "outputs": [
    {
     "data": {
      "text/plain": [
       "'psi = 0.85|00> + 0.90|01> + 0.50|10> + 0.67|11>'"
      ]
     },
     "execution_count": 77,
     "metadata": {},
     "output_type": "execute_result"
    }
   ],
   "source": [
    "psi = np.random.rand(2,2)\n",
    "show_psi(psi)"
   ]
  },
  {
   "cell_type": "code",
   "execution_count": 78,
   "id": "5ad39c41",
   "metadata": {},
   "outputs": [],
   "source": [
    "psi1 = sigma_x(psi)\n",
    "psi2 = sigma_z(psi)"
   ]
  },
  {
   "cell_type": "code",
   "execution_count": 79,
   "id": "f59be462",
   "metadata": {},
   "outputs": [
    {
     "data": {
      "text/plain": [
       "'psi = 0.85|00> + -0.90|01> + -0.50|10> + 0.67|11>'"
      ]
     },
     "execution_count": 79,
     "metadata": {},
     "output_type": "execute_result"
    }
   ],
   "source": [
    "show_psi(psi1)\n",
    "show_psi(psi2)"
   ]
  },
  {
   "cell_type": "code",
   "execution_count": 80,
   "id": "86939db2",
   "metadata": {},
   "outputs": [],
   "source": [
    "h1 = hamiltonian(psi)\n",
    "h2 = hamiltonian2(psi)"
   ]
  },
  {
   "cell_type": "code",
   "execution_count": 81,
   "id": "145dba6b",
   "metadata": {},
   "outputs": [
    {
     "data": {
      "text/plain": [
       "array([[2.24603489, 0.61458561],\n",
       "       [1.01946406, 2.06211707]])"
      ]
     },
     "execution_count": 81,
     "metadata": {},
     "output_type": "execute_result"
    }
   ],
   "source": [
    "h1"
   ]
  },
  {
   "cell_type": "code",
   "execution_count": 82,
   "id": "aca45915",
   "metadata": {},
   "outputs": [
    {
     "data": {
      "text/plain": [
       "array([[2.24603489, 0.61458561],\n",
       "       [1.01946406, 2.06211707]])"
      ]
     },
     "execution_count": 82,
     "metadata": {},
     "output_type": "execute_result"
    }
   ],
   "source": [
    "h2"
   ]
  }
 ],
 "metadata": {
  "kernelspec": {
   "display_name": "Python 3",
   "language": "python",
   "name": "python3"
  },
  "language_info": {
   "codemirror_mode": {
    "name": "ipython",
    "version": 3
   },
   "file_extension": ".py",
   "mimetype": "text/x-python",
   "name": "python",
   "nbconvert_exporter": "python",
   "pygments_lexer": "ipython3",
   "version": "3.8.8"
  }
 },
 "nbformat": 4,
 "nbformat_minor": 5
}
